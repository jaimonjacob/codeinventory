{
 "cells": [
  {
   "cell_type": "markdown",
   "id": "4a881298-70f1-4a29-a437-56d845c1fd98",
   "metadata": {},
   "source": [
    "## Initial configuration"
   ]
  },
  {
   "cell_type": "code",
   "execution_count": null,
   "id": "2407dc06-e6c4-4686-b81f-5cb1e9caf2a7",
   "metadata": {
    "tags": []
   },
   "outputs": [],
   "source": [
    "!pip install -q -U google-generativeai"
   ]
  },
  {
   "cell_type": "code",
   "execution_count": 12,
   "id": "9c5cc960-8330-4159-af95-07c0d5b40466",
   "metadata": {
    "tags": []
   },
   "outputs": [],
   "source": [
    "import google.generativeai as genai\n",
    "import pandas as pd\n",
    "import random\n",
    "import os\n",
    "import time\n",
    "from IPython.display import display\n",
    "from IPython.display import Markdown\n",
    "import json"
   ]
  },
  {
   "cell_type": "code",
   "execution_count": 10,
   "id": "d0267141-828c-434d-ba8f-f81ab375e54a",
   "metadata": {
    "tags": []
   },
   "outputs": [],
   "source": [
    "#Loading the Google API credentials using a local json\n",
    "with open(\"creds.json\") as f:\n",
    "   api_keys = json.load(f)\n",
    "api_key = api_keys[\"GOOGLE_API_KEY\"]"
   ]
  },
  {
   "cell_type": "code",
   "execution_count": 11,
   "id": "36d26032-7531-43ca-ad45-03422abcb3c5",
   "metadata": {
    "tags": []
   },
   "outputs": [],
   "source": [
    "#Configuring Google Gemini API\n",
    "genai.configure(api_key=api_key)\n",
    "model = genai.GenerativeModel(model_name=\"gemini-1.5-flash-latest\")\n",
    "max_tokens_per_call = 50"
   ]
  },
  {
   "cell_type": "code",
   "execution_count": null,
   "id": "92003b8c",
   "metadata": {},
   "outputs": [],
   "source": [
    "## Creating synthetic data"
   ]
  },
  {
   "cell_type": "code",
   "execution_count": 35,
   "id": "0d829cd8-5aca-4646-b40e-2a5060aa1be2",
   "metadata": {
    "tags": []
   },
   "outputs": [],
   "source": [
    "# Define short-text course details\n",
    "employee_levels = [\"Junior\", \"Senior\", \"Manager\", \"Director\"]\n",
    "employee_roles = [\"Programmer\", \"Accountant\", \"Tester\", \"Business Analyist\", \"Human Resource Manager\", \"Finance Analyist\"]\n",
    "course_types = [\"Beginner\", \"Intermediate\", \"Advanced\"]\n",
    "course_topics = [\n",
    "    \"Python Programming\",\n",
    "    \"C++ programming\",\n",
    "    \"Artificial Intelligence\",\n",
    "    \"Business Finance\",\n",
    "    \"Human resource transformation\",\n",
    "    \"Change management\",\n",
    "    \"Procurement\",\n",
    "    \"Supply Chain Management\",\n",
    "    \"Business analysis\",\n",
    "    \"Tableau\",\n",
    "    \"Power BI\",\n",
    "    \"Selenium\",\n",
    "    \"Automated Testing\",\n",
    "]"
   ]
  },
  {
   "cell_type": "code",
   "execution_count": 36,
   "id": "fcb74041-63f9-4026-94ea-a4ad26ac4c7e",
   "metadata": {
    "tags": []
   },
   "outputs": [],
   "source": [
    "# Creating a function to generate course data that includes descriptions iteratively without exhausting LLM network limitations\n",
    "def generate_course_data(batch_size):\n",
    "  data = []\n",
    "  course_details_to_process = []\n",
    "\n",
    "  for batch in range(batch_size):\n",
    "    # Generate random values\n",
    "    employee_level = random.choice(employee_levels)\n",
    "    employee_role = random.choice(employee_roles)\n",
    "    course_type = random.choice(course_types)\n",
    "    course_topic = random.choice(course_topics)\n",
    "\n",
    "    # Generate random course name\n",
    "    course_name_words = [course_topic, course_type, \"Essentials\"]\n",
    "    course_name = \" \".join(random.sample(course_name_words, random.randint(1, 3)))\n",
    "\n",
    "    # Course URL (placeholder, replace with logic to generate URLs based on course details)\n",
    "    course_url = f\"https://www.example.com/course/{course_name.lower().replace(' ', '-')}\"\n",
    "\n",
    "    # Generate random course duration\n",
    "    course_duration = random.randint(60, 120)  # Between 1 and 2 hours in minutes\n",
    "\n",
    "    # Append course details for batch processing\n",
    "    course_details_to_process.append(\n",
    "        {\n",
    "            \"employee_level\": employee_level,\n",
    "            \"employee_role\": employee_role,\n",
    "            \"course_type\": course_type,\n",
    "            \"course_topic\": course_topic,\n",
    "            \"course_name\": course_name,\n",
    "            \"course_url\": course_url,\n",
    "            \"course_duration\": course_duration,\n",
    "        }\n",
    "    )\n",
    "\n",
    "  # Batch API calls to avoid exceeding token limits\n",
    "  descriptions = {}\n",
    "  prerequisites = {}\n",
    "  course_sequences = {}\n",
    "  learning_objectives = {}\n",
    "  instructor_infos = {}\n",
    "  for course_details in course_details_to_process:\n",
    "    course_topic = course_details[\"course_topic\"]\n",
    "\n",
    "    # Check if content already generated in this batch\n",
    "    if course_topic not in descriptions:\n",
    "      descriptions[course_topic] = generate_description_with_gemini(\n",
    "          course_details[\"course_type\"], course_topic, max_tokens_per_call\n",
    "      )\n",
    "    if course_topic not in prerequisites:\n",
    "      prerequisites[course_topic] = generate_content_with_gemini(\n",
    "          f\"List some prerequisites for a {course_details['course_type']} course on {course_topic}\",\n",
    "          max_tokens_per_call\n",
    "      )\n",
    "    if course_topic not in course_sequences:\n",
    "      course_sequences[course_topic] = generate_content_with_gemini(\n",
    "          f\"Describe the recommended course sequence for a {course_details['course_type']} course on {course_topic}\",\n",
    "          max_tokens_per_call\n",
    "      )\n",
    "    if course_topic not in learning_objectives:\n",
    "      learning_objectives[course_topic] = generate_content_with_gemini(\n",
    "          f\"List some learning objectives for a {course_details['course_type']} course on {course_topic}\",\n",
    "          max_tokens_per_call\n",
    "      )\n",
    "    if course_topic not in instructor_infos:\n",
    "      instructor_infos[course_topic] = generate_content_with_gemini(\n",
    "          f\"Describe the instructor information for a {course_details['course_type']} course on {course_topic}\",\n",
    "          max_tokens_per_call\n",
    "      )\n",
    "\n",
    "   # Populate data with generated content\n",
    "  for course_details in course_details_to_process:\n",
    "    course_topic = course_details[\"course_topic\"]\n",
    "    data.append(\n",
    "        {\n",
    "            \"Employee Level\": course_details[\"employee_level\"],\n",
    "            \"Employee Role\": course_details[\"employee_role\"],\n",
    "            \"Course Type\": course_details[\"course_type\"],\n",
    "            \"Course Topic\": course_topic,\n",
    "            \"Course Name\": course_details[\"course_name\"],\n",
    "            \"Course URL\": course_details[\"course_url\"],\n",
    "            \"Course Description\": descriptions.get(course_topic),\n",
    "            \"Course Prerequisites\": prerequisites.get(course_topic),\n",
    "            \"Course Sequence\": course_sequences.get(course_topic),\n",
    "            \"Course Duration\": f\"{course_details['course_duration']} minutes\",\n",
    "            \"Learning Objectives\": learning_objectives.get(course_topic),\n",
    "            \"Instructor Information\": instructor_infos.get(course_topic),\n",
    "        }\n",
    "    )\n",
    "\n",
    "  return pd.DataFrame(data)"
   ]
  },
  {
   "cell_type": "code",
   "execution_count": 40,
   "id": "224bbec0-76d5-4414-a423-0cb0f88ae41f",
   "metadata": {
    "tags": []
   },
   "outputs": [],
   "source": [
    "#Now create the functions to generate the descriptions with Googlge Gemini without exhausting the interval limits\n",
    "def generate_description_with_gemini(course_type, course_topic, max_tokens=100):\n",
    "  prompt = f\"Write a {max_tokens}-word description for a {course_type} course on {course_topic}.\"\n",
    "  response = model.generate_content(prompt)\n",
    "  time.sleep(5)\n",
    "  return response.text \n",
    "\n",
    "\n",
    "def generate_content_with_gemini(prompt, max_tokens=50):\n",
    "  prompt = f\"{prompt} with a word limit of {max_tokens} .\"\n",
    "  response = model.generate_content(prompt)\n",
    "  time.sleep(5)\n",
    "  return response.text   "
   ]
  },
  {
   "cell_type": "code",
   "execution_count": 38,
   "id": "9f4b264b-6293-4d9f-bcc7-8b3ab318b1e4",
   "metadata": {
    "tags": []
   },
   "outputs": [],
   "source": [
    "#Finally, this function will generate the rows in the dataset\n",
    "def create_data(rows):\n",
    "  # Define batch size and output file  \n",
    "  batch_size = 10\n",
    "  output_file = \"synthetic_course_data.csv\"\n",
    "\n",
    "  # Generate course data in batches\n",
    "  data = pd.DataFrame()\n",
    "  for i in range(0, rows, batch_size):\n",
    "    batch_data = generate_course_data(batch_size)\n",
    "    data = pd.concat([data, batch_data], ignore_index=True)\n",
    "\n",
    "  # Save data to CSV\n",
    "  data.to_csv(output_file, index=False)\n",
    "\n",
    "  print(f\"Synthetic course data generated and saved to {output_file}\")"
   ]
  },
  {
   "cell_type": "code",
   "execution_count": null,
   "id": "d80109a1-37ce-40d4-9686-55a9a1e18760",
   "metadata": {
    "tags": []
   },
   "outputs": [],
   "source": [
    "# In this dataset, we will generate 100 synthetic data rows\n",
    "create_data(100)"
   ]
  },
  {
   "cell_type": "markdown",
   "id": "923c39e1-32c2-439c-8a05-fa9b3fea9293",
   "metadata": {},
   "source": [
    "## Query LLM for the correct learning path"
   ]
  },
  {
   "cell_type": "code",
   "execution_count": 43,
   "id": "ccd8779d-8912-4441-b2aa-eb5f44e4d828",
   "metadata": {
    "tags": []
   },
   "outputs": [],
   "source": [
    "df = pd.read_csv(\"synthetic_course_data.csv\")"
   ]
  },
  {
   "cell_type": "code",
   "execution_count": 44,
   "id": "6f625579-0def-42a4-83dd-1114cc5a2ad5",
   "metadata": {
    "tags": []
   },
   "outputs": [],
   "source": [
    "tokencount = model.count_tokens(f\"{df}\")"
   ]
  },
  {
   "cell_type": "code",
   "execution_count": 45,
   "id": "0b2310e0-ddfa-4d59-827e-7c9b67b4a482",
   "metadata": {
    "tags": []
   },
   "outputs": [
    {
     "data": {
      "text/plain": [
       "total_tokens: 1277"
      ]
     },
     "execution_count": 45,
     "metadata": {},
     "output_type": "execute_result"
    }
   ],
   "source": [
    "tokencount"
   ]
  },
  {
   "cell_type": "code",
   "execution_count": 52,
   "id": "45776007-a8f2-4166-b89e-a6a6d957ded8",
   "metadata": {
    "tags": []
   },
   "outputs": [],
   "source": [
    "def get_learning_plan(query):\n",
    "    prompt = f\"Here is a CSV file containing the course data that the L and D team offers: {df} Can you suggest a learning path for {query} based only on in the course data that the L & D team offers.\"\n",
    "    response = model.generate_content(prompt)\n",
    "    return Markdown(response.text)"
   ]
  },
  {
   "cell_type": "code",
   "execution_count": 53,
   "id": "1b417c26-35e9-47ea-92bf-4255f49b780b",
   "metadata": {
    "tags": []
   },
   "outputs": [
    {
     "data": {
      "text/markdown": [
       "Here's a potential learning path for a junior Python programmer looking to become a finance manager, based on the provided course data:\n",
       "\n",
       "**1. Foundational Skills:**\n",
       "\n",
       "* **Artificial Intelligence (Beginner):** This course provides an introduction to AI concepts, which is increasingly relevant in finance. This can help understand how AI is changing the industry and provide a basis for further exploration.\n",
       "* **Automated Testing (Beginner):** While not directly finance-related, this course develops programming skills, particularly in Python. These skills are essential for automating tasks and building financial models.\n",
       "* **Essentials Business Finance (Intermediate):** A core course to grasp fundamental financial concepts. This course will equip the learner with essential knowledge about financial statements, ratios, valuation, etc. \n",
       "\n",
       "**2. Finance-Specific Skills:**\n",
       "\n",
       "* **C++ Programming (Advanced):**  Though not directly Python, this course builds advanced programming skills that are often required in complex financial applications and systems.\n",
       "* **Change Management (Advanced):**  Understanding the complexities of implementing financial change is crucial for a finance manager. This course provides insights into leading and managing financial transformation. \n",
       "* **Essentials HR Transformation (Beginner):**  While not strictly finance, HR skills are essential for effective management. This course provides a foundation for understanding HR processes and how they relate to financial goals. \n",
       "\n",
       "**3.  Optional Courses (Based on career interest):**\n",
       "\n",
       "* **Business Analysis (Intermediate):** This course would help develop skills for understanding business needs and translating them into financial solutions.\n",
       "* **Selenium (Advanced):**  For those interested in finance technology, this course could be valuable for building automation tools for financial analysis and reporting. \n",
       "\n",
       "**Important Considerations:**\n",
       "\n",
       "* **This is a suggested path; the ideal route may vary based on individual experience and career aspirations.**\n",
       "* **The provided course data might not cover all relevant topics for finance management.** \n",
       "* **Completing these courses will not guarantee a finance management position, but it will provide a solid foundation of knowledge and skills.**\n",
       "\n",
       "**Beyond Courses:**\n",
       "\n",
       "* **Practical Experience:**  Apply your learning through projects or internships in finance, even in entry-level roles. \n",
       "* **Mentorship:** Seek guidance from experienced finance professionals to gain insights and network.\n",
       "* **Certification:** Consider finance-related certifications like the Certified Financial Analyst (CFA) or Chartered Financial Consultant (ChFC) for career advancement. \n"
      ],
      "text/plain": [
       "<IPython.core.display.Markdown object>"
      ]
     },
     "execution_count": 53,
     "metadata": {},
     "output_type": "execute_result"
    }
   ],
   "source": [
    "get_learning_plan(\"junior python programmer looking to become a finance manager\")"
   ]
  },
  {
   "cell_type": "code",
   "execution_count": 54,
   "id": "75f8765b-0a9a-4e96-947a-0bdd0e5fa6e9",
   "metadata": {
    "tags": []
   },
   "outputs": [
    {
     "data": {
      "text/markdown": [
       "Here's a suggested learning path for an HR Analyst aiming to become a Change Management professional based on the provided course data:\n",
       "\n",
       "**1. Foundational HR Knowledge (Optional):**\n",
       "\n",
       "* **Course:** \"Human resource transformation\" (Course Type: Beginner)\n",
       "* **Rationale:**  This course provides a strong base in HR functions, crucial for understanding the context of change within organizations.\n",
       "\n",
       "**2. Business Analysis Fundamentals:**\n",
       "\n",
       "* **Course:** \"Business analysis\" (Course Type: Intermediate) \n",
       "* **Rationale:** Change management often requires analyzing existing processes and identifying areas for improvement. This course develops the skills needed for this step.\n",
       "\n",
       "**3. Change Management Core:**\n",
       "\n",
       "* **Course:** \"Change management\" (Course Type: Advanced)\n",
       "* **Rationale:** This is the cornerstone of your path. It provides an in-depth understanding of change management principles, frameworks, and practical application.\n",
       "\n",
       "**4. Data Visualization Skills (Optional):**\n",
       "\n",
       "* **Course:** \"Beginner Essentials Tableau\" (Course Type: Beginner) \n",
       "* **Rationale:** While not strictly change management, data visualization tools like Tableau can help you communicate change impacts and track progress effectively.\n",
       "\n",
       "**5. Technology Skills (Optional):**\n",
       "\n",
       "* **Course:** \"Automated Testing Beginner Essentials\" (Course Type: Beginner)\n",
       "* **Rationale:**  Understanding basic automation and testing principles can be helpful for analyzing the impact of change on systems and processes.\n",
       "\n",
       "**Explanation:**\n",
       "\n",
       "* **Progression:** This learning path starts with HR fundamentals (optional), builds on business analysis skills, and culminates in the advanced change management course. \n",
       "* **Optional Courses:** The foundational HR and optional technology courses can be taken if you feel they are necessary to strengthen your skillset.\n",
       "* **Prioritize Advanced:** The \"Change management\" course should be a priority as it provides the core knowledge you need for this career transition.\n",
       "* **Focus on Practical:** Consider the \"Change Management\" course description, and look for learning objectives that highlight practical application and real-world examples.\n",
       "\n",
       "**Additional Recommendations:**\n",
       "\n",
       "* **Networking:** Attending webinars, workshops, or conferences focused on change management can provide valuable insights and opportunities to connect with professionals in the field.\n",
       "* **Mentorship:**  Seek out a mentor or coach within your organization who has experience in change management. Their guidance can be invaluable.\n",
       "\n",
       "Remember, this is just a suggested path. You can adjust it based on your existing knowledge, career goals, and the specific needs of your organization. \n"
      ],
      "text/plain": [
       "<IPython.core.display.Markdown object>"
      ]
     },
     "execution_count": 54,
     "metadata": {},
     "output_type": "execute_result"
    }
   ],
   "source": [
    "get_learning_plan(\"HR analyst trying to become a change management professional\")"
   ]
  }
 ],
 "metadata": {
  "kernelspec": {
   "display_name": "default:Python",
   "language": "python",
   "name": "conda-env-default-py"
  },
  "language_info": {
   "codemirror_mode": {
    "name": "ipython",
    "version": 3
   },
   "file_extension": ".py",
   "mimetype": "text/x-python",
   "name": "python",
   "nbconvert_exporter": "python",
   "pygments_lexer": "ipython3",
   "version": "3.9.16"
  }
 },
 "nbformat": 4,
 "nbformat_minor": 5
}
